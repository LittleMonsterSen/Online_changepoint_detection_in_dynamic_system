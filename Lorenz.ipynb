{
 "cells": [
  {
   "cell_type": "code",
   "execution_count": 4,
   "metadata": {
    "id": "vaMJhOt_ELj9"
   },
   "outputs": [],
   "source": [
    "import numpy as np\n",
    "import matplotlib.pyplot as plt\n",
    "from mpl_toolkits.mplot3d import Axes3D \n",
    "\n",
    "def lorenz63(x, y, z, sigma, rho, beta):\n",
    "    dx = sigma * (y - x)\n",
    "    dy = x * (rho - z) - y\n",
    "    dz = x * y - beta * z\n",
    "    return dx, dy, dz\n",
    "\n",
    "def simulate_lorenz63(sigma, rho, beta, x0, y0, z0, dt, num_steps):\n",
    "    # Initialize arrays to store the simulation results\n",
    "    xs = np.zeros(num_steps)\n",
    "    ys = np.zeros(num_steps)\n",
    "    zs = np.zeros(num_steps)\n",
    "\n",
    "    # Set initial conditions\n",
    "    xs[0] = x0\n",
    "    ys[0] = y0\n",
    "    zs[0] = z0\n",
    "\n",
    "    # Simulate the system\n",
    "    for i in range(1, num_steps):\n",
    "        dx, dy, dz = lorenz63(xs[i-1], ys[i-1], zs[i-1], sigma, rho, beta)\n",
    "        xs[i] = xs[i-1] + dt * dx\n",
    "        ys[i] = ys[i-1] + dt * dy\n",
    "        zs[i] = zs[i-1] + dt * dz\n",
    "\n",
    "    return xs, ys, zs\n",
    "\n",
    "# Set the time step and number of steps\n",
    "dt = 0.001"
   ]
  },
  {
   "cell_type": "code",
   "execution_count": 9,
   "metadata": {},
   "outputs": [],
   "source": [
    "rho_1 = np.random.uniform(low=25.0, high=30.0, size=(50,))\n",
    "rho_2 = np.random.uniform(low=35.0, high=40.0, size=(50,))"
   ]
  },
  {
   "cell_type": "code",
   "execution_count": 12,
   "metadata": {},
   "outputs": [
    {
     "data": {
      "text/plain": [
       "(50,)"
      ]
     },
     "execution_count": 12,
     "metadata": {},
     "output_type": "execute_result"
    }
   ],
   "source": [
    "rho_1.shape"
   ]
  },
  {
   "cell_type": "code",
   "execution_count": 13,
   "metadata": {
    "scrolled": true
   },
   "outputs": [],
   "source": [
    "beta = 8.0/3.0\n",
    "sigma = 10\n",
    "\n",
    "for i in range(50):\n",
    "    rho = rho_1[i]\n",
    "    \n",
    "    # Set the initial conditions\n",
    "    x0 = 1.0\n",
    "    y0 = 1.0\n",
    "    z0 = 1.0\n",
    "\n",
    "    # Simulate the Lorenz63 system\n",
    "    num_steps = 50000 # With burn in\n",
    "    xs, ys, zs = simulate_lorenz63(sigma, rho, beta, x0, y0, z0, dt, num_steps)    \n",
    "    state_old = np.asarray([xs,ys,zs])\n",
    "    state_old = state_old[:,25000:]\n",
    "    \n",
    "    \n",
    "    num_steps = 25000\n",
    "    # Set the initial conditions\n",
    "    x0 = xs[-1]\n",
    "    y0 = ys[-1]\n",
    "    z0 = zs[-1]\n",
    "    \n",
    "    # New parameter\n",
    "    rho = rho_2[i]\n",
    "\n",
    "    # Simulate the Lorenz63 system\n",
    "    xs_n, ys_n, zs_n = simulate_lorenz63(sigma, rho, beta, x0, y0, z0, dt, num_steps)\n",
    "    state_new = np.asarray([xs_n,ys_n,zs_n])\n",
    "    \n",
    "    # Generate trajectory\n",
    "    trajectory = np.concatenate((state_old,state_new),axis=-1).T\n",
    "    trajectory = trajectory[::100]\n",
    "    # Use Trajectory as the time-series data - and find the changepoints. First dimension is time.\n",
    "    \n",
    "    np.save('Trajectory_'+str(i)+'.npy',trajectory)\n",
    "    \n"
   ]
  },
  {
   "cell_type": "code",
   "execution_count": null,
   "metadata": {},
   "outputs": [],
   "source": [
    "    plt.figure()\n",
    "    plt.plot(trajectory[:,0], label='x')\n",
    "    plt.plot(trajectory[:,1], label='y')\n",
    "    plt.plot(trajectory[:,2], label='z')\n",
    "    plt.legend()\n",
    "    plt.xlabel('Time step')\n",
    "    plt.ylabel('Value')\n",
    "    plt.title('Lorenz63 System')\n",
    "    plt.show()\n",
    "\n",
    "    # Plot the butterfly attractor\n",
    "    fig = plt.figure()\n",
    "    ax = fig.add_subplot(111, projection='3d')\n",
    "    ax.plot(trajectory[:250,0], trajectory[:250,1],  trajectory[:250,2], alpha=0.7)\n",
    "    ax.plot(trajectory[250:,0], trajectory[250:,1],  trajectory[250:,2], alpha=0.7)\n",
    "    ax.set_xlabel('X')\n",
    "    ax.set_ylabel('Y')\n",
    "    ax.set_zlabel('Z')\n",
    "    ax.set_title('Lorenz63 Butterfly Attractor')\n",
    "    plt.show()"
   ]
  }
 ],
 "metadata": {
  "colab": {
   "provenance": []
  },
  "kernelspec": {
   "display_name": "Python 3",
   "language": "python",
   "name": "python3"
  },
  "language_info": {
   "codemirror_mode": {
    "name": "ipython",
    "version": 3
   },
   "file_extension": ".py",
   "mimetype": "text/x-python",
   "name": "python",
   "nbconvert_exporter": "python",
   "pygments_lexer": "ipython3",
   "version": "3.7.6"
  }
 },
 "nbformat": 4,
 "nbformat_minor": 1
}
